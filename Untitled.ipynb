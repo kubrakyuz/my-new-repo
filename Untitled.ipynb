{
 "cells": [
  {
   "cell_type": "markdown",
   "id": "rocky-jersey",
   "metadata": {},
   "source": [
    "# DATACAMP Python Toolbox Course\n",
    "\n",
    "## Functions"
   ]
  },
  {
   "cell_type": "code",
   "execution_count": 1,
   "id": "emotional-gothic",
   "metadata": {},
   "outputs": [],
   "source": [
    " # parametre vermediğimizde sadece 4'ün karesini alıyor\n",
    "    \n",
    "def square(): # function header\n",
    "    new_value=4 ** 2  # function body\n",
    "    print(new_value)"
   ]
  },
  {
   "cell_type": "code",
   "execution_count": 2,
   "id": "recorded-works",
   "metadata": {},
   "outputs": [
    {
     "data": {
      "text/plain": [
       "16"
      ]
     },
     "execution_count": 2,
     "metadata": {},
     "output_type": "execute_result"
    }
   ],
   "source": [
    "square()"
   ]
  },
  {
   "cell_type": "code",
   "execution_count": 3,
   "id": "compatible-providence",
   "metadata": {},
   "outputs": [],
   "source": [
    " # parametre verince istediğimiz değerin karesini alabiliyoruz\n",
    "\n",
    "def square(value):\n",
    "    \"Return the square of a value\" # buna docstring diyoruz, headerın altına yazılıyor ve fonksiyonun ne işe yaradığını anlatıyor\n",
    "    new_value= value ** 2\n",
    "    return new_value # print yerine return kullanabiliriz"
   ]
  },
  {
   "cell_type": "code",
   "execution_count": 4,
   "id": "constant-headquarters",
   "metadata": {},
   "outputs": [
    {
     "data": {
      "text/plain": [
       "25"
      ]
     },
     "execution_count": 4,
     "metadata": {},
     "output_type": "execute_result"
    }
   ],
   "source": [
    "square(5)"
   ]
  },
  {
   "cell_type": "code",
   "execution_count": 5,
   "id": "pursuant-judgment",
   "metadata": {},
   "outputs": [],
   "source": [
    "# when you define a function you write parameter in the func header\n",
    "# when you call a function you pass arguments into the function"
   ]
  },
  {
   "cell_type": "code",
   "execution_count": 6,
   "id": "intellectual-metabolism",
   "metadata": {},
   "outputs": [],
   "source": [
    "num= square(7) # num --> variable oldu"
   ]
  },
  {
   "cell_type": "code",
   "execution_count": 7,
   "id": "persistent-liechtenstein",
   "metadata": {},
   "outputs": [
    {
     "name": "stdout",
     "output_type": "stream",
     "text": [
      "49\n"
     ]
    }
   ],
   "source": [
    "print(num)"
   ]
  },
  {
   "cell_type": "code",
   "execution_count": 8,
   "id": "injured-retirement",
   "metadata": {},
   "outputs": [],
   "source": [
    "# y2=print(x)\n",
    "\n",
    "#It is important to remember that assigning a variable y2 to a function that prints a value but \n",
    "# does not return a value will result in that variable y2 being of type NoneType."
   ]
  },
  {
   "cell_type": "code",
   "execution_count": 9,
   "id": "quantitative-publication",
   "metadata": {},
   "outputs": [
    {
     "name": "stdout",
     "output_type": "stream",
     "text": [
      "congratulations!!!\n"
     ]
    }
   ],
   "source": [
    "# Define the function shout\n",
    "def shout():\n",
    "    \"\"\"Print a string with three exclamation marks\"\"\"\n",
    "    # Concatenate the strings: shout_word\n",
    "    shout_word='congratulations'+ '!!!'\n",
    "\n",
    "    # Print shout_word\n",
    "    print(shout_word)\n",
    "\n",
    "# Call shout\n",
    "shout()"
   ]
  },
  {
   "cell_type": "code",
   "execution_count": 10,
   "id": "revolutionary-grace",
   "metadata": {},
   "outputs": [
    {
     "name": "stdout",
     "output_type": "stream",
     "text": [
      "congratulations!!!\n"
     ]
    }
   ],
   "source": [
    "# Define shout with the parameter, word\n",
    "def shout(word):\n",
    "    \"\"\"Print a string with three exclamation marks\"\"\"\n",
    "    # Concatenate the strings: shout_word\n",
    "    shout_word = word + '!!!'\n",
    "\n",
    "    # Print shout_word\n",
    "    print(shout_word)\n",
    "\n",
    "# Call shout with the string 'congratulations'\n",
    "shout('congratulations')"
   ]
  },
  {
   "cell_type": "code",
   "execution_count": 11,
   "id": "interpreted-arthritis",
   "metadata": {},
   "outputs": [
    {
     "name": "stdout",
     "output_type": "stream",
     "text": [
      "congratulations!!!\n"
     ]
    }
   ],
   "source": [
    "# Define shout with the parameter, word\n",
    "def shout(word):\n",
    "    \"\"\"Return a string with three exclamation marks\"\"\"\n",
    "    # Concatenate the strings: shout_word\n",
    "    shout_word= word + '!!!'\n",
    "\n",
    "    # Replace print with return\n",
    "    return (shout_word)\n",
    "\n",
    "# Pass 'congratulations' to shout: yell\n",
    "yell=shout('congratulations')\n",
    "\n",
    "# Print yell\n",
    "print(yell)"
   ]
  },
  {
   "cell_type": "code",
   "execution_count": null,
   "id": "closed-martin",
   "metadata": {},
   "outputs": [],
   "source": []
  }
 ],
 "metadata": {
  "kernelspec": {
   "display_name": "Python 3",
   "language": "python",
   "name": "python3"
  },
  "language_info": {
   "codemirror_mode": {
    "name": "ipython",
    "version": 3
   },
   "file_extension": ".py",
   "mimetype": "text/x-python",
   "name": "python",
   "nbconvert_exporter": "python",
   "pygments_lexer": "ipython3",
   "version": "3.8.7"
  }
 },
 "nbformat": 4,
 "nbformat_minor": 5
}
